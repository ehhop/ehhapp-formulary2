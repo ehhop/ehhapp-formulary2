{
 "cells": [
  {
   "cell_type": "code",
   "execution_count": 1,
   "metadata": {
    "collapsed": true
   },
   "outputs": [],
   "source": [
    "import database\n",
    "from invoicerecord import MedicationRecord\n",
    "import datetime\n",
    "database.db.create_all()"
   ]
  },
  {
   "cell_type": "code",
   "execution_count": 2,
   "metadata": {},
   "outputs": [],
   "source": [
    "test = MedicationRecord(\n",
    "    id=123456,\n",
    "    name=\"test medication\",\n",
    "    common_name=\"test\",\n",
    "    transactions=[MedicationRecord.transaction(\n",
    "        date=datetime.datetime(2017,12,3),\n",
    "        price=\"3.74\",\n",
    "        qty=8)\n",
    "        ],\n",
    "    dosage=\"once daily\",\n",
    "    admin=\"PO\",\n",
    "    category=\"debug\",\n",
    "    prescribable=False,\n",
    "    aliases = None\n",
    "    )"
   ]
  },
  {
   "cell_type": "code",
   "execution_count": 3,
   "metadata": {},
   "outputs": [],
   "source": [
    "testdb = database.PersistentMedication.from_class(test)\n",
    "database.ver_db_session.add(testdb)\n",
    "database.ver_db_session.commit()"
   ]
  },
  {
   "cell_type": "code",
   "execution_count": 5,
   "metadata": {},
   "outputs": [
    {
     "data": {
      "text/plain": [
       "<PersistentMedication 3>"
      ]
     },
     "execution_count": 5,
     "metadata": {},
     "output_type": "execute_result"
    }
   ],
   "source": [
    "testdb"
   ]
  }
 ],
 "metadata": {
  "kernelspec": {
   "display_name": "Python 3",
   "language": "python",
   "name": "python3"
  },
  "language_info": {
   "codemirror_mode": {
    "name": "ipython",
    "version": 3
   },
   "file_extension": ".py",
   "mimetype": "text/x-python",
   "name": "python",
   "nbconvert_exporter": "python",
   "pygments_lexer": "ipython3",
   "version": "3.6.1"
  }
 },
 "nbformat": 4,
 "nbformat_minor": 2
}
